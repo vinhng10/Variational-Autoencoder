{
 "cells": [
  {
   "cell_type": "code",
   "execution_count": 1,
   "metadata": {},
   "outputs": [],
   "source": [
    "%load_ext autoreload\n",
    "%autoreload 2\n",
    "import os\n",
    "import torch, torchvision\n",
    "import torch.nn as nn\n",
    "import torch.optim as optim\n",
    "from torchvision.transforms import *\n",
    "from utils import *\n",
    "import matplotlib.pyplot as plt\n",
    "from torch.utils.data import DataLoader"
   ]
  },
  {
   "cell_type": "code",
   "execution_count": 2,
   "metadata": {},
   "outputs": [],
   "source": [
    "# Download the players' face images:\n",
    "# download_images()\n",
    "# remove_error_images()"
   ]
  },
  {
   "cell_type": "code",
   "execution_count": 3,
   "metadata": {},
   "outputs": [
    {
     "data": {
      "text/plain": [
       "device(type='cuda', index=0)"
      ]
     },
     "execution_count": 3,
     "metadata": {},
     "output_type": "execute_result"
    }
   ],
   "source": [
    "# Specify a device for training the model:\n",
    "device = torch.device(\"cuda:0\" if torch.cuda.is_available() else \"cpu\")\n",
    "device"
   ]
  },
  {
   "cell_type": "code",
   "execution_count": 4,
   "metadata": {},
   "outputs": [],
   "source": [
    "# Prepare dataset and data loader:\n",
    "images = FaceDataset('images', transform=ToTensor())\n",
    "train_loader = DataLoader(images, batch_size=32, shuffle=True, num_workers=4)"
   ]
  },
  {
   "cell_type": "code",
   "execution_count": 5,
   "metadata": {},
   "outputs": [],
   "source": [
    "# Define DAVE class:\n",
    "class DVAE(nn.Module):\n",
    "    \"\"\" Disintangled Variational Autoencoder. \"\"\"\n",
    "    def __init__(self, n_latents):\n",
    "        \"\"\" Initialize model. \n",
    "            \n",
    "            Parameters:\n",
    "                n_latents: number of latent variables\n",
    "        \"\"\"\n",
    "        super(DVAE, self).__init__()\n",
    "        self.n_latents = n_latents\n",
    "        self.register_buffer('min_logvar', -6 * torch.ones(1))\n",
    "        \n",
    "        # Encoder network:\n",
    "        self.en_conv = nn.ModuleList([nn.Conv2d(2**i, 2**(i+1), 3, 1, 1) for i in range(5, 8)])\n",
    "        self.en_conv.insert(0, nn.Conv2d(3, 32, 3, 1, 1))\n",
    "        self.en_norm = nn.ModuleList([nn.BatchNorm2d(2**i) for i in range(5, 9)])\n",
    "        self.pool = nn.MaxPool2d(2, 2, return_indices=256)\n",
    "        self.squeeze_conv = nn.Conv2d(256, 256, 7)\n",
    "        self.z_mu = nn.Linear(256, n_latents)\n",
    "        self.z_logvar = nn.Linear(256, n_latents)\n",
    "        \n",
    "        # Decoder network:\n",
    "        self.fc = nn.Linear(n_latents, 256)\n",
    "        self.de_conv = nn.ModuleList([nn.ConvTranspose2d(2**i, 2**(i-1), 3, 1, 1) for i in range(8, 5, -1)])\n",
    "        self.de_conv.insert(0, nn.ConvTranspose2d(256, 256, 7))\n",
    "        self.de_norm = nn.ModuleList([nn.BatchNorm2d(2**i) for i in range(8, 4, -1)])\n",
    "        self.unpool = nn.MaxUnpool2d(2, 2)\n",
    "        self.y_mu = nn.ConvTranspose2d(32, 3, 3, 1, 1)\n",
    "        self.y_logvar = nn.ConvTranspose2d(32, 3, 3, 1, 1)\n",
    "\n",
    "    def encode(self, x):\n",
    "        \"\"\" Encode data to latent space. \n",
    "        \n",
    "            Parameters:\n",
    "                x: input tensors of shape [batch, channels, height, width]\n",
    "            \n",
    "            Return:\n",
    "                z_mu: mean of latent variables of shape [batch, n_latents]\n",
    "                z_logvar: log variance of latent variables of shape [batch, n_latents]\n",
    "                indices: list of indices returned by maxpool layers\n",
    "        \"\"\"\n",
    "        indices = []\n",
    "        for i in range(len(self.en_conv)):\n",
    "            x = self.en_conv[i](x)\n",
    "            x = self.en_norm[i](x)\n",
    "            x, ind = self.pool(x)\n",
    "            indices.append(ind.to(device))\n",
    "            x = F.relu(x)\n",
    "        x = F.relu(self.squeeze_conv(x).squeeze())\n",
    "        return self.z_mu(x), self.z_logvar(x), indices\n",
    "\n",
    "    def sample(self, z_mu, z_logvar):\n",
    "        \"\"\" Sample one sample from posterior of latent variable with reparametrization trick. \n",
    "        \n",
    "            Parameters:\n",
    "                z_mu: mean of latent variables of shape [batch, n_latents]\n",
    "                z_logvar: log variance of latent variables of shape [batch, n_latents]\n",
    "            \n",
    "            Return:\n",
    "                z: sampled latent variable of shape [batch, n_latents]\n",
    "        \"\"\"\n",
    "        return z_mu + z_logvar.div(2).exp() * torch.randn_like(z_logvar)\n",
    "\n",
    "    def decode(self, z, indices):\n",
    "        \"\"\" Reconstruct original data from latent representation:\n",
    "        \n",
    "            Parameters:\n",
    "                z: sampled latent variable of shape [batch, n_latents]\n",
    "                indices: list of indices returned by maxpool layers\n",
    "            \n",
    "            Return:\n",
    "                y_mu: mean of reconstructed samples of shape [batch, channels, height, width]\n",
    "                y_logvar: log variance of reconstructed samples of shape [batch, channels, height, width]\n",
    "        \"\"\"\n",
    "        z = self.fc(z)[:, :, None, None]\n",
    "        z = self.de_conv[0](z)\n",
    "        z = self.de_norm[0](z)\n",
    "        z = F.relu(z)\n",
    "        z = self.unpool(z, indices[-1], output_size=torch.Size([z.shape[0], z.shape[1], 15, 15]))\n",
    "        for i in range(1, len(self.de_conv)):\n",
    "            z = self.de_conv[i](z)\n",
    "            z = self.de_norm[i](z)\n",
    "            z = F.relu(z)\n",
    "            z = self.unpool(z, indices[-i-1])\n",
    "        m = self.y_mu(z)\n",
    "        lv = self.min_logvar + F.softplus(self.y_logvar(z) - self.min_logvar)\n",
    "        return m, lv\n",
    "\n",
    "    def forward(self, x):\n",
    "        \"\"\" Forward pass. \n",
    "        \n",
    "            Parameters:\n",
    "                x: input tensors of shape [batch, channels, height, width]\n",
    "            \n",
    "            Return:\n",
    "                z_mu: mean of latent variables of shape [batch, n_latents]\n",
    "                z_logvar: log variance of latent variables of shape [batch, n_latents]\n",
    "                y_mu: mean of reconstructed samples of shape [batch, channels, height, width]\n",
    "                y_logvar: log variance of reconstructed samples of shape [batch, channels, height, width]\n",
    "        \"\"\"\n",
    "        z_mu, z_logvar, indices= self.encode(x)\n",
    "        z = self.sample(z_mu, z_logvar)\n",
    "        y_mu, y_logvar = self.decode(z, indices)\n",
    "        return z_mu, z_logvar, y_mu, y_logvar"
   ]
  },
  {
   "cell_type": "code",
   "execution_count": null,
   "metadata": {},
   "outputs": [],
   "source": [
    "def dvae_loss(x, z_mu, z_logvar, y_mu, y_logvar, beta):\n",
    "    \"\"\" Variational autoencoder loss. \n",
    "        \n",
    "        Parameters:\n",
    "            x: input tensors of shape [batch, channels, height, width]\n",
    "            z_mu: mean of latent variables of shape [batch, n_latents]\n",
    "            z_logvar: log variance of latent variables of shape [batch, n_latents]\n",
    "            y_mu: mean of reconstructed samples of shape [batch, channels, height, width]\n",
    "            y_logvar: log variance of reconstructed samples of shape [batch, channels, height, width]   \n",
    "            beta: disintangled coefficient\n",
    "            \n",
    "        Return:\n",
    "            loss \n",
    "    \"\"\"\n",
    "    # Negative expected log likelihood over latent distribution:\n",
    "    NLL = 0.5*((x - y_mean).pow(2).div(y_logvar.exp()) + y_logvar).sum().div(x.shape[0])\n",
    "    # KL-divergence between trained latent space and standard normal distribution:\n",
    "    DKL = 0.5*(z_logvar.exp() + z_mu.pow(2) - z_logvar - 1).sum().div(x.shape[0])\n",
    "    return beta * DKL + NLL"
   ]
  },
  {
   "cell_type": "code",
   "execution_count": 6,
   "metadata": {},
   "outputs": [
    {
     "ename": "KeyboardInterrupt",
     "evalue": "",
     "output_type": "error",
     "traceback": [
      "\u001b[0;31m---------------------------------------------------------------------------\u001b[0m",
      "\u001b[0;31mKeyboardInterrupt\u001b[0m                         Traceback (most recent call last)",
      "\u001b[0;32m<ipython-input-6-27ef8e1712f6>\u001b[0m in \u001b[0;36m<module>\u001b[0;34m\u001b[0m\n\u001b[1;32m      6\u001b[0m \u001b[0;31m# Initialize an instance of model:\u001b[0m\u001b[0;34m\u001b[0m\u001b[0;34m\u001b[0m\u001b[0;34m\u001b[0m\u001b[0m\n\u001b[1;32m      7\u001b[0m \u001b[0mdvae\u001b[0m \u001b[0;34m=\u001b[0m \u001b[0mDVAE\u001b[0m\u001b[0;34m(\u001b[0m\u001b[0mn_latents\u001b[0m\u001b[0;34m)\u001b[0m\u001b[0;34m\u001b[0m\u001b[0;34m\u001b[0m\u001b[0m\n\u001b[0;32m----> 8\u001b[0;31m \u001b[0mdvae\u001b[0m\u001b[0;34m.\u001b[0m\u001b[0mto\u001b[0m\u001b[0;34m(\u001b[0m\u001b[0mdevice\u001b[0m\u001b[0;34m)\u001b[0m\u001b[0;34m\u001b[0m\u001b[0;34m\u001b[0m\u001b[0m\n\u001b[0m\u001b[1;32m      9\u001b[0m \u001b[0;31m# Choose an optimizer:\u001b[0m\u001b[0;34m\u001b[0m\u001b[0;34m\u001b[0m\u001b[0;34m\u001b[0m\u001b[0m\n\u001b[1;32m     10\u001b[0m \u001b[0moptimizer\u001b[0m \u001b[0;34m=\u001b[0m \u001b[0moptim\u001b[0m\u001b[0;34m.\u001b[0m\u001b[0mAdam\u001b[0m\u001b[0;34m(\u001b[0m\u001b[0mdvae\u001b[0m\u001b[0;34m.\u001b[0m\u001b[0mparameters\u001b[0m\u001b[0;34m(\u001b[0m\u001b[0;34m)\u001b[0m\u001b[0;34m,\u001b[0m \u001b[0mlr\u001b[0m\u001b[0;34m=\u001b[0m\u001b[0mlr\u001b[0m\u001b[0;34m)\u001b[0m\u001b[0;34m\u001b[0m\u001b[0;34m\u001b[0m\u001b[0m\n",
      "\u001b[0;32m~/.local/lib/python3.8/site-packages/torch/nn/modules/module.py\u001b[0m in \u001b[0;36mto\u001b[0;34m(self, *args, **kwargs)\u001b[0m\n\u001b[1;32m    441\u001b[0m             \u001b[0;32mreturn\u001b[0m \u001b[0mt\u001b[0m\u001b[0;34m.\u001b[0m\u001b[0mto\u001b[0m\u001b[0;34m(\u001b[0m\u001b[0mdevice\u001b[0m\u001b[0;34m,\u001b[0m \u001b[0mdtype\u001b[0m \u001b[0;32mif\u001b[0m \u001b[0mt\u001b[0m\u001b[0;34m.\u001b[0m\u001b[0mis_floating_point\u001b[0m\u001b[0;34m(\u001b[0m\u001b[0;34m)\u001b[0m \u001b[0;32melse\u001b[0m \u001b[0;32mNone\u001b[0m\u001b[0;34m,\u001b[0m \u001b[0mnon_blocking\u001b[0m\u001b[0;34m)\u001b[0m\u001b[0;34m\u001b[0m\u001b[0;34m\u001b[0m\u001b[0m\n\u001b[1;32m    442\u001b[0m \u001b[0;34m\u001b[0m\u001b[0m\n\u001b[0;32m--> 443\u001b[0;31m         \u001b[0;32mreturn\u001b[0m \u001b[0mself\u001b[0m\u001b[0;34m.\u001b[0m\u001b[0m_apply\u001b[0m\u001b[0;34m(\u001b[0m\u001b[0mconvert\u001b[0m\u001b[0;34m)\u001b[0m\u001b[0;34m\u001b[0m\u001b[0;34m\u001b[0m\u001b[0m\n\u001b[0m\u001b[1;32m    444\u001b[0m \u001b[0;34m\u001b[0m\u001b[0m\n\u001b[1;32m    445\u001b[0m     \u001b[0;32mdef\u001b[0m \u001b[0mregister_backward_hook\u001b[0m\u001b[0;34m(\u001b[0m\u001b[0mself\u001b[0m\u001b[0;34m,\u001b[0m \u001b[0mhook\u001b[0m\u001b[0;34m)\u001b[0m\u001b[0;34m:\u001b[0m\u001b[0;34m\u001b[0m\u001b[0;34m\u001b[0m\u001b[0m\n",
      "\u001b[0;32m~/.local/lib/python3.8/site-packages/torch/nn/modules/module.py\u001b[0m in \u001b[0;36m_apply\u001b[0;34m(self, fn)\u001b[0m\n\u001b[1;32m    201\u001b[0m     \u001b[0;32mdef\u001b[0m \u001b[0m_apply\u001b[0m\u001b[0;34m(\u001b[0m\u001b[0mself\u001b[0m\u001b[0;34m,\u001b[0m \u001b[0mfn\u001b[0m\u001b[0;34m)\u001b[0m\u001b[0;34m:\u001b[0m\u001b[0;34m\u001b[0m\u001b[0;34m\u001b[0m\u001b[0m\n\u001b[1;32m    202\u001b[0m         \u001b[0;32mfor\u001b[0m \u001b[0mmodule\u001b[0m \u001b[0;32min\u001b[0m \u001b[0mself\u001b[0m\u001b[0;34m.\u001b[0m\u001b[0mchildren\u001b[0m\u001b[0;34m(\u001b[0m\u001b[0;34m)\u001b[0m\u001b[0;34m:\u001b[0m\u001b[0;34m\u001b[0m\u001b[0;34m\u001b[0m\u001b[0m\n\u001b[0;32m--> 203\u001b[0;31m             \u001b[0mmodule\u001b[0m\u001b[0;34m.\u001b[0m\u001b[0m_apply\u001b[0m\u001b[0;34m(\u001b[0m\u001b[0mfn\u001b[0m\u001b[0;34m)\u001b[0m\u001b[0;34m\u001b[0m\u001b[0;34m\u001b[0m\u001b[0m\n\u001b[0m\u001b[1;32m    204\u001b[0m \u001b[0;34m\u001b[0m\u001b[0m\n\u001b[1;32m    205\u001b[0m         \u001b[0;32mdef\u001b[0m \u001b[0mcompute_should_use_set_data\u001b[0m\u001b[0;34m(\u001b[0m\u001b[0mtensor\u001b[0m\u001b[0;34m,\u001b[0m \u001b[0mtensor_applied\u001b[0m\u001b[0;34m)\u001b[0m\u001b[0;34m:\u001b[0m\u001b[0;34m\u001b[0m\u001b[0;34m\u001b[0m\u001b[0m\n",
      "\u001b[0;32m~/.local/lib/python3.8/site-packages/torch/nn/modules/module.py\u001b[0m in \u001b[0;36m_apply\u001b[0;34m(self, fn)\u001b[0m\n\u001b[1;32m    201\u001b[0m     \u001b[0;32mdef\u001b[0m \u001b[0m_apply\u001b[0m\u001b[0;34m(\u001b[0m\u001b[0mself\u001b[0m\u001b[0;34m,\u001b[0m \u001b[0mfn\u001b[0m\u001b[0;34m)\u001b[0m\u001b[0;34m:\u001b[0m\u001b[0;34m\u001b[0m\u001b[0;34m\u001b[0m\u001b[0m\n\u001b[1;32m    202\u001b[0m         \u001b[0;32mfor\u001b[0m \u001b[0mmodule\u001b[0m \u001b[0;32min\u001b[0m \u001b[0mself\u001b[0m\u001b[0;34m.\u001b[0m\u001b[0mchildren\u001b[0m\u001b[0;34m(\u001b[0m\u001b[0;34m)\u001b[0m\u001b[0;34m:\u001b[0m\u001b[0;34m\u001b[0m\u001b[0;34m\u001b[0m\u001b[0m\n\u001b[0;32m--> 203\u001b[0;31m             \u001b[0mmodule\u001b[0m\u001b[0;34m.\u001b[0m\u001b[0m_apply\u001b[0m\u001b[0;34m(\u001b[0m\u001b[0mfn\u001b[0m\u001b[0;34m)\u001b[0m\u001b[0;34m\u001b[0m\u001b[0;34m\u001b[0m\u001b[0m\n\u001b[0m\u001b[1;32m    204\u001b[0m \u001b[0;34m\u001b[0m\u001b[0m\n\u001b[1;32m    205\u001b[0m         \u001b[0;32mdef\u001b[0m \u001b[0mcompute_should_use_set_data\u001b[0m\u001b[0;34m(\u001b[0m\u001b[0mtensor\u001b[0m\u001b[0;34m,\u001b[0m \u001b[0mtensor_applied\u001b[0m\u001b[0;34m)\u001b[0m\u001b[0;34m:\u001b[0m\u001b[0;34m\u001b[0m\u001b[0;34m\u001b[0m\u001b[0m\n",
      "\u001b[0;32m~/.local/lib/python3.8/site-packages/torch/nn/modules/module.py\u001b[0m in \u001b[0;36m_apply\u001b[0;34m(self, fn)\u001b[0m\n\u001b[1;32m    223\u001b[0m                 \u001b[0;31m# `with torch.no_grad():`\u001b[0m\u001b[0;34m\u001b[0m\u001b[0;34m\u001b[0m\u001b[0;34m\u001b[0m\u001b[0m\n\u001b[1;32m    224\u001b[0m                 \u001b[0;32mwith\u001b[0m \u001b[0mtorch\u001b[0m\u001b[0;34m.\u001b[0m\u001b[0mno_grad\u001b[0m\u001b[0;34m(\u001b[0m\u001b[0;34m)\u001b[0m\u001b[0;34m:\u001b[0m\u001b[0;34m\u001b[0m\u001b[0;34m\u001b[0m\u001b[0m\n\u001b[0;32m--> 225\u001b[0;31m                     \u001b[0mparam_applied\u001b[0m \u001b[0;34m=\u001b[0m \u001b[0mfn\u001b[0m\u001b[0;34m(\u001b[0m\u001b[0mparam\u001b[0m\u001b[0;34m)\u001b[0m\u001b[0;34m\u001b[0m\u001b[0;34m\u001b[0m\u001b[0m\n\u001b[0m\u001b[1;32m    226\u001b[0m                 \u001b[0mshould_use_set_data\u001b[0m \u001b[0;34m=\u001b[0m \u001b[0mcompute_should_use_set_data\u001b[0m\u001b[0;34m(\u001b[0m\u001b[0mparam\u001b[0m\u001b[0;34m,\u001b[0m \u001b[0mparam_applied\u001b[0m\u001b[0;34m)\u001b[0m\u001b[0;34m\u001b[0m\u001b[0;34m\u001b[0m\u001b[0m\n\u001b[1;32m    227\u001b[0m                 \u001b[0;32mif\u001b[0m \u001b[0mshould_use_set_data\u001b[0m\u001b[0;34m:\u001b[0m\u001b[0;34m\u001b[0m\u001b[0;34m\u001b[0m\u001b[0m\n",
      "\u001b[0;32m~/.local/lib/python3.8/site-packages/torch/nn/modules/module.py\u001b[0m in \u001b[0;36mconvert\u001b[0;34m(t)\u001b[0m\n\u001b[1;32m    439\u001b[0m             \u001b[0;32mif\u001b[0m \u001b[0mconvert_to_format\u001b[0m \u001b[0;32mis\u001b[0m \u001b[0;32mnot\u001b[0m \u001b[0;32mNone\u001b[0m \u001b[0;32mand\u001b[0m \u001b[0mt\u001b[0m\u001b[0;34m.\u001b[0m\u001b[0mdim\u001b[0m\u001b[0;34m(\u001b[0m\u001b[0;34m)\u001b[0m \u001b[0;34m==\u001b[0m \u001b[0;36m4\u001b[0m\u001b[0;34m:\u001b[0m\u001b[0;34m\u001b[0m\u001b[0;34m\u001b[0m\u001b[0m\n\u001b[1;32m    440\u001b[0m                 \u001b[0;32mreturn\u001b[0m \u001b[0mt\u001b[0m\u001b[0;34m.\u001b[0m\u001b[0mto\u001b[0m\u001b[0;34m(\u001b[0m\u001b[0mdevice\u001b[0m\u001b[0;34m,\u001b[0m \u001b[0mdtype\u001b[0m \u001b[0;32mif\u001b[0m \u001b[0mt\u001b[0m\u001b[0;34m.\u001b[0m\u001b[0mis_floating_point\u001b[0m\u001b[0;34m(\u001b[0m\u001b[0;34m)\u001b[0m \u001b[0;32melse\u001b[0m \u001b[0;32mNone\u001b[0m\u001b[0;34m,\u001b[0m \u001b[0mnon_blocking\u001b[0m\u001b[0;34m,\u001b[0m \u001b[0mmemory_format\u001b[0m\u001b[0;34m=\u001b[0m\u001b[0mconvert_to_format\u001b[0m\u001b[0;34m)\u001b[0m\u001b[0;34m\u001b[0m\u001b[0;34m\u001b[0m\u001b[0m\n\u001b[0;32m--> 441\u001b[0;31m             \u001b[0;32mreturn\u001b[0m \u001b[0mt\u001b[0m\u001b[0;34m.\u001b[0m\u001b[0mto\u001b[0m\u001b[0;34m(\u001b[0m\u001b[0mdevice\u001b[0m\u001b[0;34m,\u001b[0m \u001b[0mdtype\u001b[0m \u001b[0;32mif\u001b[0m \u001b[0mt\u001b[0m\u001b[0;34m.\u001b[0m\u001b[0mis_floating_point\u001b[0m\u001b[0;34m(\u001b[0m\u001b[0;34m)\u001b[0m \u001b[0;32melse\u001b[0m \u001b[0;32mNone\u001b[0m\u001b[0;34m,\u001b[0m \u001b[0mnon_blocking\u001b[0m\u001b[0;34m)\u001b[0m\u001b[0;34m\u001b[0m\u001b[0;34m\u001b[0m\u001b[0m\n\u001b[0m\u001b[1;32m    442\u001b[0m \u001b[0;34m\u001b[0m\u001b[0m\n\u001b[1;32m    443\u001b[0m         \u001b[0;32mreturn\u001b[0m \u001b[0mself\u001b[0m\u001b[0;34m.\u001b[0m\u001b[0m_apply\u001b[0m\u001b[0;34m(\u001b[0m\u001b[0mconvert\u001b[0m\u001b[0;34m)\u001b[0m\u001b[0;34m\u001b[0m\u001b[0;34m\u001b[0m\u001b[0m\n",
      "\u001b[0;31mKeyboardInterrupt\u001b[0m: "
     ]
    }
   ],
   "source": [
    "# Define hyper-parameters for training the models\n",
    "n_latents = 10\n",
    "lr = 1e-3\n",
    "epochs = 10\n",
    "\n",
    "# Initialize an instance of model:\n",
    "dvae = DVAE(n_latents)\n",
    "dvae.to(device)\n",
    "# Choose an optimizer:\n",
    "optimizer = optim.Adam(dvae.parameters(), lr=lr)\n",
    "\n",
    "# Training loop:\n",
    "for epoch in range(epoch):\n",
    "    for i, x in enumerate(train_loader):\n",
    "        # Remove previous gradients:\n",
    "        optimizer.zero_grad()\n",
    "        # Push data to device:\n",
    "        x = x.to(device)\n",
    "        # Feed data to model:\n",
    "        z_mu, z_logvar, y_mu, y_logvar = dvae(x)\n",
    "        # Compute the loss:\n",
    "        loss = loss_fn(z_mu, z_logvar, y_mu, y_logvar)\n",
    "        # Back-propagation:\n",
    "        loss.backward()\n",
    "        # Update parameters:\n",
    "        optimizer.step()\n",
    "        \n",
    "        # Print out training progress:\n",
    "        if (i % 100 == 0):\n",
    "            pass"
   ]
  },
  {
   "cell_type": "code",
   "execution_count": 65,
   "metadata": {},
   "outputs": [
    {
     "data": {
      "text/plain": [
       "DVAE(\n",
       "  (encoder): Sequential(\n",
       "    (0): Conv2d(4, 16, kernel_size=(3, 3), stride=(1, 1))\n",
       "    (1): ReLU()\n",
       "    (2): Conv2d(16, 32, kernel_size=(4, 4), stride=(3, 3))\n",
       "    (3): ReLU()\n",
       "    (4): Conv2d(32, 64, kernel_size=(7, 7), stride=(4, 4))\n",
       "    (5): ReLU()\n",
       "    (6): Conv2Linear()\n",
       "    (7): Linear(in_features=5184, out_features=512, bias=True)\n",
       "    (8): ReLU()\n",
       "  )\n",
       "  (mu): Linear(in_features=512, out_features=20, bias=True)\n",
       "  (logsigma): Linear(in_features=512, out_features=20, bias=True)\n",
       "  (decoder): Sequential(\n",
       "    (0): Linear(in_features=20, out_features=512, bias=True)\n",
       "    (1): ReLU()\n",
       "    (2): Linear(in_features=512, out_features=5184, bias=True)\n",
       "    (3): ReLU()\n",
       "    (4): Linear2Conv()\n",
       "    (5): ConvTranspose2d(64, 32, kernel_size=(7, 7), stride=(4, 4))\n",
       "    (6): ReLU()\n",
       "    (7): ConvTranspose2d(32, 16, kernel_size=(4, 4), stride=(3, 3))\n",
       "    (8): ReLU()\n",
       "    (9): ConvTranspose2d(16, 4, kernel_size=(3, 3), stride=(1, 1))\n",
       "    (10): Sigmoid()\n",
       "  )\n",
       ")"
      ]
     },
     "execution_count": 65,
     "metadata": {},
     "output_type": "execute_result"
    }
   ],
   "source": [
    "# Load a pre-trained model:\n",
    "model = DVAE().to(device)\n",
    "model.load_state_dict(torch.load('vae.pt'))\n",
    "model.eval()"
   ]
  },
  {
   "cell_type": "code",
   "execution_count": 61,
   "metadata": {},
   "outputs": [
    {
     "data": {
      "text/plain": [
       "(120, 120, 3)"
      ]
     },
     "execution_count": 61,
     "metadata": {},
     "output_type": "execute_result"
    }
   ],
   "source": [
    "images[num].detach().numpy().transpose(1, 2, 0).shape"
   ]
  },
  {
   "cell_type": "code",
   "execution_count": 57,
   "metadata": {},
   "outputs": [
    {
     "data": {
      "text/plain": [
       "<matplotlib.image.AxesImage at 0x7f7ba5b99a00>"
      ]
     },
     "execution_count": 57,
     "metadata": {},
     "output_type": "execute_result"
    },
    {
     "data": {
      "image/png": "[encoded data removed]",
      "text/plain": [
       "<Figure size 360x360 with 2 Axes>"
      ]
     },
     "metadata": {
      "needs_background": "light"
     },
     "output_type": "display_data"
    }
   ],
   "source": [
    "fig, ax = plt.subplots(1, 2, figsize=(5, 5))\n",
    "# Choose a sample for comparison:\n",
    "num = 12783\n",
    "x = images[num][None, :, :].to(device)\n",
    "# Show the original sample:\n",
    "ax[0].imshow(images[num].detach().numpy().transpose(1, 2, 0))\n",
    "# Encode & decode the sample:\n",
    "#recon_x, mu, logsigma, z, eps = model.forward(x)\n",
    "# Show the decoded sample:\n",
    "#ax[1].imshow(recon_x[0].cpu().detach().numpy().transpose(1, 2, 0))"
   ]
  },
  {
   "cell_type": "code",
   "execution_count": null,
   "metadata": {},
   "outputs": [],
   "source": []
  }
 ],
 "metadata": {
  "kernelspec": {
   "display_name": "Python 3",
   "language": "python",
   "name": "python3"
  },
  "language_info": {
   "codemirror_mode": {
    "name": "ipython",
    "version": 3
   },
   "file_extension": ".py",
   "mimetype": "text/x-python",
   "name": "python",
   "nbconvert_exporter": "python",
   "pygments_lexer": "ipython3",
   "version": "3.8.2"
  }
 },
 "nbformat": 4,
 "nbformat_minor": 2
}
